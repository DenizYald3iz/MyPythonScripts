{
 "cells": [
  {
   "cell_type": "code",
   "execution_count": 1,
   "id": "f1b0bc27-0229-49b7-9e51-0d14d3d77199",
   "metadata": {},
   "outputs": [],
   "source": [
    "import os"
   ]
  },
  {
   "cell_type": "code",
   "execution_count": 2,
   "id": "b44dbed2-b628-467f-80f0-44844ce43cea",
   "metadata": {},
   "outputs": [],
   "source": [
    "dir = os.path.join(os.getcwd(),'data')"
   ]
  },
  {
   "cell_type": "code",
   "execution_count": 3,
   "id": "68c62f2f-5c61-4e28-8c43-61a2159b3759",
   "metadata": {},
   "outputs": [
    {
     "name": "stdout",
     "output_type": "stream",
     "text": [
      "C:\\Users\\deniz\\Desktop\\yolotry3\\data\n"
     ]
    }
   ],
   "source": [
    "print(dir)"
   ]
  },
  {
   "cell_type": "code",
   "execution_count": 7,
   "id": "134ff55f-ff2d-4748-a97f-5406dc5a176b",
   "metadata": {},
   "outputs": [],
   "source": [
    "alt_klasorler = os.listdir(dir)"
   ]
  },
  {
   "cell_type": "code",
   "execution_count": 14,
   "id": "e6d6e9e2-27d6-4f78-9af2-d789a3a69db3",
   "metadata": {},
   "outputs": [
    {
     "name": "stdout",
     "output_type": "stream",
     "text": [
      "Şu anki çalışma dizini: C:\\Users\\deniz\\Desktop\\yolotry3\\data\\test\n",
      "Error\n",
      "Şu anki çalışma dizini: C:\\Users\\deniz\\Desktop\\yolotry3\\data\\train\n",
      "Error\n",
      "Şu anki çalışma dizini: C:\\Users\\deniz\\Desktop\\yolotry3\\data\\valid\n",
      "Error\n"
     ]
    }
   ],
   "source": [
    "for alt_klasor in alt_klasorler:\n",
    "    alt_klasor_yolu = os.path.join(dir,alt_klasor)\n",
    "      # Eğer alt klasör bir klasör ise (dosya değilse)\n",
    "    if os.path.isdir(alt_klasor_yolu):\n",
    "        # Alt klasöre geçiş yapma\n",
    "        os.chdir(alt_klasor_yolu)\n",
    "        \n",
    "        # Şu anki çalışma dizinini yazdırma\n",
    "        print(\"Şu anki çalışma dizini:\", os.getcwd())\n",
    "        loc_son = os.getcwd()\n",
    "        dirs_son = os.listdir(loc_son)\n",
    "        with open(alt_klasor + \".txt\",\"w\") as dosya:\n",
    "            for folder in dirs_son:\n",
    "                if folder != 'labels':\n",
    "                    en_alt_klasor = os.path.join(loc_son,folder)\n",
    "                   # print(en_alt_klasor)\n",
    "                    img_path = os.listdir(en_alt_klasor)\n",
    "                    #print(img_path)\n",
    "                    for i in img_path:\n",
    "                        dosya.write(i + \"\\n\")\n",
    "                \n",
    "            else:\n",
    "                print(\"Error\")"
   ]
  },
  {
   "cell_type": "code",
   "execution_count": null,
   "id": "8d56b4c5-56b1-4b1f-af1d-2b9dad1f825a",
   "metadata": {},
   "outputs": [],
   "source": []
  }
 ],
 "metadata": {
  "kernelspec": {
   "display_name": "Python 3 (ipykernel)",
   "language": "python",
   "name": "python3"
  },
  "language_info": {
   "codemirror_mode": {
    "name": "ipython",
    "version": 3
   },
   "file_extension": ".py",
   "mimetype": "text/x-python",
   "name": "python",
   "nbconvert_exporter": "python",
   "pygments_lexer": "ipython3",
   "version": "3.10.10"
  }
 },
 "nbformat": 4,
 "nbformat_minor": 5
}
